{
 "cells": [
  {
   "cell_type": "code",
   "execution_count": 3,
   "metadata": {
    "collapsed": false
   },
   "outputs": [],
   "source": [
    "import os\n",
    "import pandas as pd\n",
    "import numpy as np\n",
    "os.getcwd()\n",
    "import sklearn as sk"
   ]
  },
  {
   "cell_type": "code",
   "execution_count": 5,
   "metadata": {
    "collapsed": false
   },
   "outputs": [
    {
     "data": {
      "text/plain": [
       "['91627a02-ff6a-4fcb-96eb-72c6abca7515.zip',\n",
       " 'business_id.txt',\n",
       " 'json_to_csv_converter.py',\n",
       " 'PhaseIISubmissionFormat.csv',\n",
       " 'restaurant_ids_to_yelp_ids.csv',\n",
       " 'SubmissionFormat.csv',\n",
       " 'train_labels.csv',\n",
       " 'yelp_academic_dataset_business.csv',\n",
       " 'yelp_academic_dataset_business.json',\n",
       " 'yelp_academic_dataset_checkin.csv',\n",
       " 'yelp_academic_dataset_checkin.json',\n",
       " 'yelp_academic_dataset_review.csv',\n",
       " 'yelp_academic_dataset_review.json',\n",
       " 'yelp_academic_dataset_tip.csv',\n",
       " 'yelp_academic_dataset_tip.json',\n",
       " 'yelp_academic_dataset_user.csv',\n",
       " 'yelp_academic_dataset_user.json',\n",
       " 'yelp_boston_academic_dataset.tar']"
      ]
     },
     "execution_count": 5,
     "metadata": {},
     "output_type": "execute_result"
    }
   ],
   "source": [
    "os.listdir(\"data\")"
   ]
  },
  {
   "cell_type": "code",
   "execution_count": 24,
   "metadata": {
    "collapsed": false
   },
   "outputs": [
    {
     "data": {
      "text/html": [
       "<div style=\"max-height:1000px;max-width:1500px;overflow:auto;\">\n",
       "<table border=\"1\" class=\"dataframe\">\n",
       "  <thead>\n",
       "    <tr style=\"text-align: right;\">\n",
       "      <th></th>\n",
       "      <th>restaurant_id</th>\n",
       "      <th>yelp_id_0</th>\n",
       "      <th>yelp_id_1</th>\n",
       "      <th>yelp_id_2</th>\n",
       "      <th>yelp_id_3</th>\n",
       "    </tr>\n",
       "  </thead>\n",
       "  <tbody>\n",
       "    <tr>\n",
       "      <th>0</th>\n",
       "      <td>Y1Em4GOw</td>\n",
       "      <td>5Kdf1DGbRScRk6Cx3jaX8w</td>\n",
       "      <td>NaN</td>\n",
       "      <td>NaN</td>\n",
       "      <td>NaN</td>\n",
       "    </tr>\n",
       "    <tr>\n",
       "      <th>1</th>\n",
       "      <td>KAoKP6Og</td>\n",
       "      <td>Urw6NASrebP6tyFdjwjkwQ</td>\n",
       "      <td>NaN</td>\n",
       "      <td>NaN</td>\n",
       "      <td>NaN</td>\n",
       "    </tr>\n",
       "    <tr>\n",
       "      <th>2</th>\n",
       "      <td>WeEe7eoa</td>\n",
       "      <td>xlOE7jqbW1Q_PrvLBVlegQ</td>\n",
       "      <td>NaN</td>\n",
       "      <td>NaN</td>\n",
       "      <td>NaN</td>\n",
       "    </tr>\n",
       "    <tr>\n",
       "      <th>3</th>\n",
       "      <td>V430mqoB</td>\n",
       "      <td>ktYpqtygWIJ2RjVPGTxNaA</td>\n",
       "      <td>NaN</td>\n",
       "      <td>NaN</td>\n",
       "      <td>NaN</td>\n",
       "    </tr>\n",
       "    <tr>\n",
       "      <th>4</th>\n",
       "      <td>ekE4Qz32</td>\n",
       "      <td>n8CsQy7Iy1IMhP85hPVKPA</td>\n",
       "      <td>NaN</td>\n",
       "      <td>NaN</td>\n",
       "      <td>NaN</td>\n",
       "    </tr>\n",
       "    <tr>\n",
       "      <th>5</th>\n",
       "      <td>Pk3wQ9Od</td>\n",
       "      <td>k_NyuJ67p9_D_7iIzsbJUw</td>\n",
       "      <td>NaN</td>\n",
       "      <td>NaN</td>\n",
       "      <td>NaN</td>\n",
       "    </tr>\n",
       "    <tr>\n",
       "      <th>6</th>\n",
       "      <td>V430a7oB</td>\n",
       "      <td>O7Wgpxd8iGLKMmnhdbtJuw</td>\n",
       "      <td>NaN</td>\n",
       "      <td>NaN</td>\n",
       "      <td>NaN</td>\n",
       "    </tr>\n",
       "    <tr>\n",
       "      <th>7</th>\n",
       "      <td>xWoYpd3K</td>\n",
       "      <td>nUbPzfRH5-d01dSWRv4UZQ</td>\n",
       "      <td>NaN</td>\n",
       "      <td>NaN</td>\n",
       "      <td>NaN</td>\n",
       "    </tr>\n",
       "    <tr>\n",
       "      <th>8</th>\n",
       "      <td>WwOa4YoB</td>\n",
       "      <td>J4J7LOfq0AwXqrO7PgSFHQ</td>\n",
       "      <td>NaN</td>\n",
       "      <td>NaN</td>\n",
       "      <td>NaN</td>\n",
       "    </tr>\n",
       "    <tr>\n",
       "      <th>9</th>\n",
       "      <td>KAoK283g</td>\n",
       "      <td>edbAEdBrOMTSXsutqzCWTg</td>\n",
       "      <td>NaN</td>\n",
       "      <td>NaN</td>\n",
       "      <td>NaN</td>\n",
       "    </tr>\n",
       "  </tbody>\n",
       "</table>\n",
       "</div>"
      ],
      "text/plain": [
       "  restaurant_id               yelp_id_0 yelp_id_1 yelp_id_2 yelp_id_3\n",
       "0      Y1Em4GOw  5Kdf1DGbRScRk6Cx3jaX8w       NaN       NaN       NaN\n",
       "1      KAoKP6Og  Urw6NASrebP6tyFdjwjkwQ       NaN       NaN       NaN\n",
       "2      WeEe7eoa  xlOE7jqbW1Q_PrvLBVlegQ       NaN       NaN       NaN\n",
       "3      V430mqoB  ktYpqtygWIJ2RjVPGTxNaA       NaN       NaN       NaN\n",
       "4      ekE4Qz32  n8CsQy7Iy1IMhP85hPVKPA       NaN       NaN       NaN\n",
       "5      Pk3wQ9Od  k_NyuJ67p9_D_7iIzsbJUw       NaN       NaN       NaN\n",
       "6      V430a7oB  O7Wgpxd8iGLKMmnhdbtJuw       NaN       NaN       NaN\n",
       "7      xWoYpd3K  nUbPzfRH5-d01dSWRv4UZQ       NaN       NaN       NaN\n",
       "8      WwOa4YoB  J4J7LOfq0AwXqrO7PgSFHQ       NaN       NaN       NaN\n",
       "9      KAoK283g  edbAEdBrOMTSXsutqzCWTg       NaN       NaN       NaN"
      ]
     },
     "execution_count": 24,
     "metadata": {},
     "output_type": "execute_result"
    }
   ],
   "source": [
    "business = pd.read_csv(\"data/yelp_academic_dataset_business.csv\")\n",
    "train_labels = pd.read_csv(\"data/train_labels.csv\")\n",
    "review = pd.read_csv(\"data/yelp_academic_dataset_review.csv\")\n",
    "user = pd.read_csv(\"data/yelp_academic_dataset_user.csv\")\n",
    "tip = pd.read_csv(\"data/yelp_academic_dataset_tip.csv\")\n",
    "xwalk = pd.read_csv(\"data/restaurant_ids_to_yelp_ids.csv\")\n",
    "xwalk.head(10)"
   ]
  },
  {
   "cell_type": "code",
   "execution_count": 15,
   "metadata": {
    "collapsed": false
   },
   "outputs": [
    {
     "name": "stdout",
     "output_type": "stream",
     "text": [
      "1930\n"
     ]
    }
   ],
   "source": [
    "print len(business)\n",
    "\n",
    "def frequency(dataset):\n",
    "    for i, test in enumerate(dataset):\n",
    "        print test, \"\\n\"\n",
    "        by = dataset.groupby([test])\n",
    "        freq = by[test].agg(len)\n",
    "        print freq\n",
    "        print freq.sum()\n",
    "        print \"\\n\""
   ]
  },
  {
   "cell_type": "code",
   "execution_count": null,
   "metadata": {
    "collapsed": false,
    "scrolled": false
   },
   "outputs": [],
   "source": [
    "frequency(business)"
   ]
  },
  {
   "cell_type": "code",
   "execution_count": null,
   "metadata": {
    "collapsed": false,
    "scrolled": false
   },
   "outputs": [],
   "source": [
    "print len(review)\n",
    "print frequency(review)"
   ]
  },
  {
   "cell_type": "code",
   "execution_count": null,
   "metadata": {
    "collapsed": false
   },
   "outputs": [],
   "source": [
    "df."
   ]
  },
  {
   "cell_type": "code",
   "execution_count": null,
   "metadata": {
    "collapsed": false
   },
   "outputs": [],
   "source": [
    "user.columns"
   ]
  },
  {
   "cell_type": "code",
   "execution_count": 18,
   "metadata": {
    "collapsed": false
   },
   "outputs": [],
   "source": [
    "# lets make a row for each model"
   ]
  },
  {
   "cell_type": "code",
   "execution_count": 40,
   "metadata": {
    "collapsed": false
   },
   "outputs": [],
   "source": [
    "import numpy as np\n",
    "by = train_labels.groupby(['restaurant_id'])\n",
    "mean_score = by['*','**','***'].agg(np.mean)\n",
    "\n",
    "by = review.groupby(['business_id'])\n",
    "mean_star = by['stars'].agg(np.mean)\n",
    "\n",
    "# merge the data together using crosswalk\n",
    "\n",
    "mean_score = pd.merge(mean_score.reset_index(),xwalk, left_on = 'restaurant_id', right_on = 'restaurant_id')\n",
    "mean_star = pd.merge(mean_score,mean_star.reset_index(),left_on = 'yelp_id_0', right_on = 'business_id')\n",
    "mean_star.head(10)\n",
    "\n",
    "one_star = mean_star['***']\n",
    "ave_star = mean_star['stars']"
   ]
  },
  {
   "cell_type": "code",
   "execution_count": 41,
   "metadata": {
    "collapsed": false
   },
   "outputs": [
    {
     "data": {
      "text/plain": [
       "-0.050571420945722124"
      ]
     },
     "execution_count": 41,
     "metadata": {},
     "output_type": "execute_result"
    }
   ],
   "source": [
    "one_star.corr(ave_star)\n",
    "one_star.corr(ave_star)\n",
    "one_star.corr(ave_star)"
   ]
  },
  {
   "cell_type": "code",
   "execution_count": null,
   "metadata": {
    "collapsed": true
   },
   "outputs": [],
   "source": []
  },
  {
   "cell_type": "code",
   "execution_count": null,
   "metadata": {
    "collapsed": true
   },
   "outputs": [],
   "source": []
  }
 ],
 "metadata": {
  "kernelspec": {
   "display_name": "Python 2",
   "language": "python",
   "name": "python2"
  },
  "language_info": {
   "codemirror_mode": {
    "name": "ipython",
    "version": 2
   },
   "file_extension": ".py",
   "mimetype": "text/x-python",
   "name": "python",
   "nbconvert_exporter": "python",
   "pygments_lexer": "ipython2",
   "version": "2.7.8"
  }
 },
 "nbformat": 4,
 "nbformat_minor": 0
}
