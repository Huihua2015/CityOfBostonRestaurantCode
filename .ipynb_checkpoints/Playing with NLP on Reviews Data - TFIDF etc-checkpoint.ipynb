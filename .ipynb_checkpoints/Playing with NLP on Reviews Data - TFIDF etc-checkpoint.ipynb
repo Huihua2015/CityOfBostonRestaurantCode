{
 "cells": [
  {
   "cell_type": "code",
   "execution_count": 1,
   "metadata": {
    "collapsed": true
   },
   "outputs": [],
   "source": [
    "import pandas as pd, numpy as np, nltk\n",
    "from collections import Counter"
   ]
  },
  {
   "cell_type": "code",
   "execution_count": 2,
   "metadata": {
    "collapsed": false
   },
   "outputs": [],
   "source": [
    "# stick everything in a function so memory gets released after load\n",
    "def func(value):\n",
    "    reviews = pd.read_pickle('data/intermediate/' + value +'.pkl')\n",
    "    print reviews.columns\n",
    "    print reviews.head(3)\n",
    "    \n",
    "    # find most frequent ngrams\n",
    "    grams = []\n",
    "    for i in reviews[value]:\n",
    "        grams += i\n",
    "    print \"There are \",len(grams), \"ngrams\"\n",
    "    \n",
    "    counter = Counter(grams)\n",
    "    counter = pd.DataFrame(counter.items())\n",
    "    print counter.sort([1],ascending=0).head(30)"
   ]
  },
  {
   "cell_type": "code",
   "execution_count": 3,
   "metadata": {
    "collapsed": false
   },
   "outputs": [
    {
     "name": "stdout",
     "output_type": "stream",
     "text": [
      "Index([u'restaurant_id', u'date', u'final_text', u'ngrams2'], dtype='object')\n",
      "  restaurant_id       date                                         final_text  \\\n",
      "0      N6Ok7qOx 2005-08-26  this is a pretty typical cafe.  the sandwiches...   \n",
      "1      N6Ok7qOx 2005-11-23  i agree with other reviewers - this is a prett...   \n",
      "2      N6Ok7qOx 2005-11-23  decent enough food, but very overpriced. just ...   \n",
      "\n",
      "                                             ngrams2  \n",
      "0  [(pretty, typical), (typical, cafe), (cafe, sa...  \n",
      "1  [(agree, reviewer), (reviewer, pretty), (prett...  \n",
      "2  [(decent, enough), (enough, food), (food, over...  \n",
      "There are  15395222 ngrams\n",
      "                       0      1\n",
      "1261378       (food, wa)  24487\n",
      "3614844       (wa, good)  24159\n",
      "2234334    (service, wa)  20962\n",
      "1355582      (wa, great)  14548\n",
      "453750        (go, back)  12656\n",
      "558974    (pretty, good)  11197\n",
      "1954242     (wa, pretty)  10705\n",
      "1266401     (north, end)  10406\n",
      "1348684     (wa, really)  10140\n",
      "2266279      (place, wa)   9975\n",
      "2595345   (really, good)   9646\n",
      "2707664  (wa, delicious)   9488\n",
      "3407925       (wa, nice)   8207\n",
      "3069253     (come, back)   8070\n",
      "2871766    (first, time)   8051\n",
      "1446992      (ive, ever)   7547\n",
      "1022373   (great, place)   7267\n",
      "2455902     (ice, cream)   6666\n",
      "390423      (feel, like)   6544\n",
      "1617688       (wa, also)   6374\n",
      "2400209     (dont, know)   6353\n",
      "2543036     (next, time)   6349\n",
      "865436      (wa, little)   6337\n",
      "1866256     (good, food)   6160\n",
      "2295187   (even, though)   5862\n",
      "161378   (lobster, roll)   5672\n",
      "2872955    (great, food)   5368\n",
      "2524647    (last, night)   5348\n",
      "1781885    (wa, amazing)   5338\n",
      "3007751        (5, star)   5286\n"
     ]
    }
   ],
   "source": [
    "func('ngrams2')"
   ]
  },
  {
   "cell_type": "code",
   "execution_count": 5,
   "metadata": {
    "collapsed": false
   },
   "outputs": [
    {
     "name": "stdout",
     "output_type": "stream",
     "text": [
      "Index([u'restaurant_id', u'date', u'final_text', u'ngrams3'], dtype='object')\n",
      "  restaurant_id       date                                         final_text  \\\n",
      "0      N6Ok7qOx 2005-08-26  this is a pretty typical cafe.  the sandwiches...   \n",
      "1      N6Ok7qOx 2005-11-23  i agree with other reviewers - this is a prett...   \n",
      "2      N6Ok7qOx 2005-11-23  decent enough food, but very overpriced. just ...   \n",
      "\n",
      "                                             ngrams3  \n",
      "0  [(pretty, typical, cafe), (typical, cafe, sand...  \n",
      "1  [(agree, reviewer, pretty), (reviewer, pretty,...  \n",
      "2  [(decent, enough, food), (enough, food, overpr...  \n",
      "There are  15166594 ngrams\n",
      "                                    0     1\n",
      "3908202              (food, wa, good)  3670\n",
      "1779755            (wa, pretty, good)  3458\n",
      "7265309            (wa, really, good)  2388\n",
      "9810691          (service, wa, great)  2263\n",
      "267605            (service, wa, good)  2177\n",
      "4844019             (food, wa, great)  1694\n",
      "4142999             (would, go, back)  1649\n",
      "282486         (definitely, go, back)  1466\n",
      "2981485             (cant, go, wrong)  1439\n",
      "1814277              (wait, go, back)  1400\n",
      "7582367         (food, wa, delicious)  1323\n",
      "4016468          (sweet, potato, fry)  1322\n",
      "641217               (cant, wait, go)  1308\n",
      "1490074             (best, ive, ever)  1297\n",
      "5916925             (wa, first, time)  1186\n",
      "2425423      (definitely, come, back)  1153\n",
      "1906940      (service, wa, excellent)  1051\n",
      "6083609   (wa, pleasantly, surprised)  1016\n",
      "8786166        (nothing, write, home)  1009\n",
      "4350399           (place, wa, packed)   990\n",
      "108659            (clam, chowder, wa)   966\n",
      "6872635                (wa, good, wa)   953\n",
      "4686473         (staff, wa, friendly)   934\n",
      "9075993           (would, come, back)   910\n",
      "10874518             (mac, n, cheese)   910\n",
      "3653292       (service, wa, friendly)   905\n",
      "7847115         (seated, right, away)   892\n",
      "6561127      (restaurant, north, end)   892\n",
      "6083188            (great, place, go)   887\n",
      "2376980              (felt, like, wa)   882\n"
     ]
    }
   ],
   "source": [
    "func('ngrams3')"
   ]
  },
  {
   "cell_type": "code",
   "execution_count": 6,
   "metadata": {
    "collapsed": false
   },
   "outputs": [
    {
     "name": "stdout",
     "output_type": "stream",
     "text": [
      "Index([u'restaurant_id', u'date', u'final_text', u'ngrams4'], dtype='object')\n",
      "  restaurant_id       date                                         final_text  \\\n",
      "0      N6Ok7qOx 2005-08-26  this is a pretty typical cafe.  the sandwiches...   \n",
      "1      N6Ok7qOx 2005-11-23  i agree with other reviewers - this is a prett...   \n",
      "2      N6Ok7qOx 2005-11-23  decent enough food, but very overpriced. just ...   \n",
      "\n",
      "                                             ngrams4  \n",
      "0  [(pretty, typical, cafe, sandwich), (typical, ...  \n",
      "1  [(agree, reviewer, pretty, typical), (reviewer...  \n",
      "2  [(decent, enough, food, overpriced), (enough, ...  \n",
      "There are  14938317 ngrams\n",
      "                                              0     1\n",
      "1210787                  (cant, wait, go, back)  1228\n",
      "13440027          (would, definitely, go, back)   682\n",
      "12748685        (would, definitely, come, back)   532\n",
      "12004534               (food, wa, pretty, good)   528\n",
      "3928549                 (wa, good, service, wa)   350\n",
      "10291653               (food, wa, really, good)   337\n",
      "7117797                (next, time, im, boston)   300\n",
      "2843410                (wa, great, service, wa)   285\n",
      "11501040               (cant, wait, come, back)   279\n",
      "1943286                   (wa, great, food, wa)   271\n",
      "2660327               (food, wa, good, service)   261\n",
      "4347056           (great, food, great, service)   258\n",
      "10689935          (new, england, clam, chowder)   245\n",
      "10524185            (service, wa, pretty, good)   242\n",
      "1414614             (service, wa, little, slow)   218\n",
      "5473200                  (give, place, 5, star)   217\n",
      "9401849     (one, favorite, restaurant, boston)   212\n",
      "6870144                (beer, beer, beer, beer)   210\n",
      "6586461              (service, wa, great, food)   209\n",
      "10111223      (italian, restaurant, north, end)   204\n",
      "2113687                  (back, next, time, im)   204\n",
      "13524146                   (wa, good, food, wa)   203\n",
      "13296307              (really, cant, go, wrong)   201\n",
      "11583763                  (wait, go, back, try)   199\n",
      "8381294               (service, wa, good, food)   197\n",
      "2244310                   (wa, best, ive, ever)   191\n",
      "7326539              (food, wa, great, service)   191\n",
      "949014    (would, definitely, recommend, place)   181\n",
      "4076646                (service, wa, bit, slow)   180\n",
      "14083098             (say, enough, good, thing)   179\n"
     ]
    }
   ],
   "source": [
    "func('ngrams4')"
   ]
  },
  {
   "cell_type": "markdown",
   "metadata": {},
   "source": [
    "Was is being lemmatized as \"wa\" so it's not being identified as a stop word. Need to change sequence? Stopword removal before lemmatizing? Stopwords are all positive (i.e. was instead of wasnt, etc.) so not losing negative connotation. Negative connotation might also sit in the trigrams."
   ]
  },
  {
   "cell_type": "code",
   "execution_count": 7,
   "metadata": {
    "collapsed": false
   },
   "outputs": [
    {
     "data": {
      "text/plain": [
       "u'wa'"
      ]
     },
     "execution_count": 7,
     "metadata": {},
     "output_type": "execute_result"
    }
   ],
   "source": [
    "import nltk\n",
    "wnl = nltk.WordNetLemmatizer()\n",
    "wnl.lemmatize(\"was\")"
   ]
  },
  {
   "cell_type": "code",
   "execution_count": null,
   "metadata": {
    "collapsed": true
   },
   "outputs": [],
   "source": []
  }
 ],
 "metadata": {
  "kernelspec": {
   "display_name": "Python 2",
   "language": "python",
   "name": "python2"
  },
  "language_info": {
   "codemirror_mode": {
    "name": "ipython",
    "version": 2
   },
   "file_extension": ".py",
   "mimetype": "text/x-python",
   "name": "python",
   "nbconvert_exporter": "python",
   "pygments_lexer": "ipython2",
   "version": "2.7.8"
  }
 },
 "nbformat": 4,
 "nbformat_minor": 0
}
